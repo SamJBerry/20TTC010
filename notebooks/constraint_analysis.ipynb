{
 "cells": [
  {
   "cell_type": "markdown",
   "source": [
    "# Constraint Analysis"
   ],
   "metadata": {
    "collapsed": false,
    "pycharm": {
     "name": "#%% md\n"
    }
   }
  },
  {
   "cell_type": "code",
   "execution_count": 38,
   "outputs": [],
   "source": [
    "import pandas as pd\n",
    "import numpy as np\n",
    "import matplotlib.pyplot as plt\n",
    "%matplotlib inline\n",
    "\n",
    "C_D_0 = 0.04\n"
   ],
   "metadata": {
    "collapsed": false,
    "pycharm": {
     "name": "#%%\n"
    }
   }
  },
  {
   "cell_type": "markdown",
   "source": [
    "## Constraint 1: Constant altitude and speed cruise"
   ],
   "metadata": {
    "collapsed": false,
    "pycharm": {
     "name": "#%% md\n"
    }
   }
  },
  {
   "cell_type": "code",
   "execution_count": 39,
   "metadata": {
    "collapsed": true,
    "pycharm": {
     "name": "#%%\n"
    }
   },
   "outputs": [],
   "source": [
    "beta = 0.93\n",
    "alpha = 0.6\n",
    "q = 10322.25\n",
    "k_1 = 0.085\n",
    "W_TO = 6000 * 9.81\n",
    "\n",
    "W_TO_initial = W_TO / 60\n",
    "W_TO_end = W_TO / 8\n",
    "\n",
    "df = pd.DataFrame()\n",
    "df['W/S'] = np.linspace(W_TO_initial,W_TO_end)\n",
    "df['T/W_1'] = beta/alpha * ((C_D_0)/(beta/q*df['W/S']) + k_1*beta/q*df['W/S'])"
   ]
  },
  {
   "cell_type": "markdown",
   "source": [
    "## Constraint 2: Constant speed climb"
   ],
   "metadata": {
    "collapsed": false,
    "pycharm": {
     "name": "#%% md\n"
    }
   }
  },
  {
   "cell_type": "code",
   "execution_count": 40,
   "outputs": [],
   "source": [
    "alpha = 0.7\n",
    "beta = 0.98\n",
    "q = 19616\n",
    "V=322\n",
    "df['T/W_2'] = beta/alpha * ((C_D_0)/(beta/q*df['W/S']) + k_1*beta/q*df['W/S'] + 1/V)"
   ],
   "metadata": {
    "collapsed": false,
    "pycharm": {
     "name": "#%%\n"
    }
   }
  },
  {
   "cell_type": "markdown",
   "source": [
    "## Constraint 3: Landing"
   ],
   "metadata": {
    "collapsed": false,
    "pycharm": {
     "name": "#%% md\n"
    }
   }
  },
  {
   "cell_type": "code",
   "execution_count": 41,
   "outputs": [],
   "source": [
    "s_L = 200\n",
    "beta = 0.2\n",
    "k_L = 1.2\n",
    "mu = 0.2\n",
    "g = 9.81\n",
    "rho = 1.225\n",
    "C_L_max_land = 1.8\n",
    "W_TO_S = s_L / (beta*k_L**2) * (mu*g*rho*C_L_max_land)"
   ],
   "metadata": {
    "collapsed": false,
    "pycharm": {
     "name": "#%%\n"
    }
   }
  },
  {
   "cell_type": "markdown",
   "source": [
    "## Constraint 3: Takeoff"
   ],
   "metadata": {
    "collapsed": false,
    "pycharm": {
     "name": "#%% md\n"
    }
   }
  },
  {
   "cell_type": "code",
   "execution_count": 42,
   "outputs": [],
   "source": [
    "beta = 1\n",
    "alpha = 1\n",
    "k_LO = 1.2\n",
    "s_G = 300\n",
    "g = 9.81\n",
    "rho = 1.225\n",
    "C_L_max_TO = 1.8\n",
    "df['T/W_3'] = beta**2/alpha * k_LO**2 / (s_G*g*rho*C_L_max_TO) * df['W/S']"
   ],
   "metadata": {
    "collapsed": false,
    "pycharm": {
     "name": "#%%\n"
    }
   }
  },
  {
   "cell_type": "code",
   "execution_count": 43,
   "outputs": [
    {
     "data": {
      "text/plain": "<Figure size 432x288 with 1 Axes>",
      "image/png": "[encoded data removed]"
     },
     "metadata": {
      "needs_background": "light"
     },
     "output_type": "display_data"
    }
   ],
   "source": [
    "plt.axvline(W_TO_S, label = \"Landing\")\n",
    "plt.fill_between(df['W/S'], df['T/W_1'], label=\"Cruise\", alpha=0.5)\n",
    "plt.fill_between(df['W/S'], df['T/W_2'], label=\"Climb\", alpha=0.5)\n",
    "plt.fill_between(df['W/S'], df['T/W_3'], label=\"Takeoff\", alpha=0.5)\n",
    "plt.xlabel('$W_{TO}/S$')\n",
    "plt.ylabel('$T_{SL}/W_{TO}$')\n",
    "plt.grid()\n",
    "plt.legend()\n",
    "plt.show()"
   ],
   "metadata": {
    "collapsed": false,
    "pycharm": {
     "name": "#%%\n"
    }
   }
  }
 ],
 "metadata": {
  "kernelspec": {
   "display_name": "Python 3",
   "language": "python",
   "name": "python3"
  },
  "language_info": {
   "codemirror_mode": {
    "name": "ipython",
    "version": 2
   },
   "file_extension": ".py",
   "mimetype": "text/x-python",
   "name": "python",
   "nbconvert_exporter": "python",
   "pygments_lexer": "ipython2",
   "version": "2.7.6"
  }
 },
 "nbformat": 4,
 "nbformat_minor": 0
}