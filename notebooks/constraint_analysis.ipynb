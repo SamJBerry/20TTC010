{
 "cells": [
  {
   "cell_type": "markdown",
   "source": [
    "# Constraint Analysis"
   ],
   "metadata": {
    "collapsed": false,
    "pycharm": {
     "name": "#%% md\n"
    }
   }
  },
  {
   "cell_type": "code",
   "source": [
    "import pandas as pd\n",
    "import numpy as np\n",
    "import matplotlib.pyplot as plt\n",
    "%matplotlib inline\n",
    "\n",
    "C_D_0 = 0.04"
   ],
   "metadata": {
    "collapsed": false,
    "pycharm": {
     "name": "#%%\n"
    }
   },
   "execution_count": 1,
   "outputs": []
  },
  {
   "cell_type": "markdown",
   "source": [
    "## Mission"
   ],
   "metadata": {
    "collapsed": false,
    "pycharm": {
     "name": "#%% md\n"
    }
   }
  },
  {
   "cell_type": "code",
   "execution_count": 2,
   "outputs": [
    {
     "data": {
      "text/plain": "      Phase  Distance  Altitude  Speed  Beta  Cumulative Distance\n0   Takeoff         5       150   0.40  1.00                    5\n1     Climb        50     35000   0.70  0.98                   55\n2    Cruise       300     35000   0.70  0.93                  355\n3    Loiter       400     35000   0.70  0.86                  755\n4   Descend        75     10000   0.85  0.81                  830\n5      Dash        75     10000   0.95  0.74                  905\n6     Climb        30     40000   0.70  0.72                  935\n7    Cruise       300     40000   0.70  0.67                 1235\n8   Descend        30      5000   0.80  0.61                 1265\n9    Loiter        20      5000   0.60  0.60                 1285\n10  Descend        10       150   0.50  0.60                 1295\n11     Land         5         0   0.40  6.60                 1300",
      "text/html": "<div>\n<style scoped>\n    .dataframe tbody tr th:only-of-type {\n        vertical-align: middle;\n    }\n\n    .dataframe tbody tr th {\n        vertical-align: top;\n    }\n\n    .dataframe thead th {\n        text-align: right;\n    }\n</style>\n<table border=\"1\" class=\"dataframe\">\n  <thead>\n    <tr style=\"text-align: right;\">\n      <th></th>\n      <th>Phase</th>\n      <th>Distance</th>\n      <th>Altitude</th>\n      <th>Speed</th>\n      <th>Beta</th>\n      <th>Cumulative Distance</th>\n    </tr>\n  </thead>\n  <tbody>\n    <tr>\n      <th>0</th>\n      <td>Takeoff</td>\n      <td>5</td>\n      <td>150</td>\n      <td>0.40</td>\n      <td>1.00</td>\n      <td>5</td>\n    </tr>\n    <tr>\n      <th>1</th>\n      <td>Climb</td>\n      <td>50</td>\n      <td>35000</td>\n      <td>0.70</td>\n      <td>0.98</td>\n      <td>55</td>\n    </tr>\n    <tr>\n      <th>2</th>\n      <td>Cruise</td>\n      <td>300</td>\n      <td>35000</td>\n      <td>0.70</td>\n      <td>0.93</td>\n      <td>355</td>\n    </tr>\n    <tr>\n      <th>3</th>\n      <td>Loiter</td>\n      <td>400</td>\n      <td>35000</td>\n      <td>0.70</td>\n      <td>0.86</td>\n      <td>755</td>\n    </tr>\n    <tr>\n      <th>4</th>\n      <td>Descend</td>\n      <td>75</td>\n      <td>10000</td>\n      <td>0.85</td>\n      <td>0.81</td>\n      <td>830</td>\n    </tr>\n    <tr>\n      <th>5</th>\n      <td>Dash</td>\n      <td>75</td>\n      <td>10000</td>\n      <td>0.95</td>\n      <td>0.74</td>\n      <td>905</td>\n    </tr>\n    <tr>\n      <th>6</th>\n      <td>Climb</td>\n      <td>30</td>\n      <td>40000</td>\n      <td>0.70</td>\n      <td>0.72</td>\n      <td>935</td>\n    </tr>\n    <tr>\n      <th>7</th>\n      <td>Cruise</td>\n      <td>300</td>\n      <td>40000</td>\n      <td>0.70</td>\n      <td>0.67</td>\n      <td>1235</td>\n    </tr>\n    <tr>\n      <th>8</th>\n      <td>Descend</td>\n      <td>30</td>\n      <td>5000</td>\n      <td>0.80</td>\n      <td>0.61</td>\n      <td>1265</td>\n    </tr>\n    <tr>\n      <th>9</th>\n      <td>Loiter</td>\n      <td>20</td>\n      <td>5000</td>\n      <td>0.60</td>\n      <td>0.60</td>\n      <td>1285</td>\n    </tr>\n    <tr>\n      <th>10</th>\n      <td>Descend</td>\n      <td>10</td>\n      <td>150</td>\n      <td>0.50</td>\n      <td>0.60</td>\n      <td>1295</td>\n    </tr>\n    <tr>\n      <th>11</th>\n      <td>Land</td>\n      <td>5</td>\n      <td>0</td>\n      <td>0.40</td>\n      <td>6.60</td>\n      <td>1300</td>\n    </tr>\n  </tbody>\n</table>\n</div>"
     },
     "execution_count": 2,
     "metadata": {},
     "output_type": "execute_result"
    }
   ],
   "source": [
    "columns = [\"Phase\", \"Distance\", \"Altitude\", \"Speed\", \"Beta\"]\n",
    "\n",
    "mission_data = pd.DataFrame([[\"Takeoff\", 5, 150, 0.4, 1],\n",
    "                             [\"Climb\", 50, 35000, 0.7, 0.98],\n",
    "                             [\"Cruise\", 300, 35000, 0.7, 0.93],\n",
    "                             [\"Loiter\", 400, 35000, 0.7, 0.86],\n",
    "                             [\"Descend\", 75, 10000, 0.85, 0.81],\n",
    "                             [\"Dash\", 75, 10000, 0.95, 0.74],\n",
    "                             [\"Climb\", 30, 40000, 0.7, 0.72],\n",
    "                             [\"Cruise\", 300, 40000, 0.7, 0.67],\n",
    "                             [\"Descend\", 30, 5000, 0.8, 0.61],\n",
    "                             [\"Loiter\", 20, 5000, 0.6, 0.6],\n",
    "                             [\"Descend\", 10, 150, 0.5, 0.6],\n",
    "                             [\"Land\", 5, 0, 0.4, 06.6]], columns=columns)\n",
    "mission_data[\"Cumulative Distance\"] = mission_data[\"Distance\"].cumsum()\n",
    "mission_data"
   ],
   "metadata": {
    "collapsed": false,
    "pycharm": {
     "name": "#%%\n"
    }
   }
  },
  {
   "cell_type": "code",
   "execution_count": 3,
   "outputs": [
    {
     "data": {
      "text/plain": "<Figure size 432x288 with 2 Axes>",
      "image/png": "[encoded data removed]"
     },
     "metadata": {
      "needs_background": "light"
     },
     "output_type": "display_data"
    }
   ],
   "source": [
    "fig, axs = plt.subplots(2)\n",
    "axs[0].plot(mission_data[\"Cumulative Distance\"], mission_data[\"Altitude\"])\n",
    "axs[0].set_ylabel(\"Altitude [Feet]\")\n",
    "axs[1].plot(mission_data[\"Cumulative Distance\"], mission_data[\"Speed\"])\n",
    "axs[1].set_ylabel(\"Speed [Mach No.]\")\n",
    "axs[1].set_xlabel(\"Distance [NM]\")\n",
    "plt.show()"
   ],
   "metadata": {
    "collapsed": false,
    "pycharm": {
     "name": "#%%\n"
    }
   }
  },
  {
   "cell_type": "markdown",
   "source": [
    "# Constraints"
   ],
   "metadata": {
    "collapsed": false
   }
  },
  {
   "cell_type": "code",
   "execution_count": 4,
   "outputs": [],
   "source": [
    "W_TO = 6000 * 9.81\n",
    "\n",
    "W_TO_initial = W_TO / 60\n",
    "W_TO_end = W_TO / 14\n",
    "\n",
    "df = pd.DataFrame()\n",
    "df['W/S'] = np.linspace(W_TO_initial,W_TO_end)"
   ],
   "metadata": {
    "collapsed": false,
    "pycharm": {
     "name": "#%%\n"
    }
   }
  },
  {
   "cell_type": "markdown",
   "source": [
    "## Constraint 1: Takeoff"
   ],
   "metadata": {
    "collapsed": false,
    "pycharm": {
     "name": "#%% md\n"
    }
   }
  },
  {
   "cell_type": "code",
   "execution_count": 5,
   "outputs": [],
   "source": [
    "beta = mission_data[\"Beta\"][0]\n",
    "alpha = 1\n",
    "k_LO = 1.2\n",
    "s_G = 300\n",
    "g = 9.81\n",
    "rho = 1.225\n",
    "C_L_max_TO = 1.2\n",
    "df['T/W_0'] = beta**2/alpha * k_LO**2 / (s_G*g*rho*C_L_max_TO) * df['W/S']"
   ],
   "metadata": {
    "collapsed": false,
    "pycharm": {
     "name": "#%%\n"
    }
   }
  },
  {
   "cell_type": "markdown",
   "source": [
    "## Constraint 2: Cruise to target"
   ],
   "metadata": {
    "collapsed": false
   }
  },
  {
   "cell_type": "code",
   "execution_count": 6,
   "outputs": [],
   "source": [
    "beta = mission_data[\"Beta\"][2]\n",
    "alpha = 0.6\n",
    "q = 10322.25\n",
    "k_1 = 0.085\n",
    "\n",
    "df['T/W_1'] = beta/alpha * ((C_D_0)/(beta/q*df['W/S']) + k_1*beta/q*df['W/S'])"
   ],
   "metadata": {
    "collapsed": false,
    "pycharm": {
     "name": "#%%\n"
    }
   }
  },
  {
   "cell_type": "markdown",
   "source": [
    "## Constraint 3: High speed dash"
   ],
   "metadata": {
    "collapsed": false
   }
  },
  {
   "cell_type": "code",
   "execution_count": 7,
   "outputs": [],
   "source": [
    "beta = mission_data[\"Beta\"][5]\n",
    "alpha = 0.6\n",
    "q = 23134\n",
    "k_1 = 0.085\n",
    "\n",
    "df['T/W_2'] = beta/alpha * ((C_D_0)/(beta/q*df['W/S']) + k_1*beta/q*df['W/S'])"
   ],
   "metadata": {
    "collapsed": false,
    "pycharm": {
     "name": "#%%\n"
    }
   }
  },
  {
   "cell_type": "markdown",
   "source": [
    "## Constraint 3: High speed dash away"
   ],
   "metadata": {
    "collapsed": false
   }
  },
  {
   "cell_type": "code",
   "execution_count": 8,
   "outputs": [],
   "source": [
    "beta = mission_data[\"Beta\"][7]\n",
    "alpha = 0.6\n",
    "q = 23134\n",
    "k_1 = 0.085\n",
    "\n",
    "df['T/W_5'] = beta/alpha * ((C_D_0)/(beta/q*df['W/S']) + k_1*beta/q*df['W/S'])"
   ],
   "metadata": {
    "collapsed": false,
    "pycharm": {
     "name": "#%%\n"
    }
   }
  },
  {
   "cell_type": "markdown",
   "source": [
    "## Constraint 4: Loiter"
   ],
   "metadata": {
    "collapsed": false
   }
  },
  {
   "cell_type": "code",
   "execution_count": 9,
   "outputs": [],
   "source": [
    "beta = mission_data[\"Beta\"][3]\n",
    "alpha = 0.6\n",
    "q = 10332.25\n",
    "k_1 = 0.085\n",
    "df['T/W_3'] = beta/alpha * ((C_D_0)/(beta/q*df['W/S']) + k_1*beta/q*df['W/S'])"
   ],
   "metadata": {
    "collapsed": false,
    "pycharm": {
     "name": "#%%\n"
    }
   }
  },
  {
   "cell_type": "markdown",
   "source": [
    "## Constraint 5: Return Cruise"
   ],
   "metadata": {
    "collapsed": false
   }
  },
  {
   "cell_type": "code",
   "execution_count": 10,
   "outputs": [],
   "source": [
    "beta = mission_data[\"Beta\"][7]\n",
    "alpha = 0.6\n",
    "q = 7675\n",
    "k_1 = 0.085\n",
    "df['T/W_4'] = beta/alpha * ((C_D_0)/(beta/q*df['W/S']) + k_1*beta/q*df['W/S'])"
   ],
   "metadata": {
    "collapsed": false,
    "pycharm": {
     "name": "#%%\n"
    }
   }
  },
  {
   "cell_type": "markdown",
   "source": [
    "## Constraint 6: 5g Turn"
   ],
   "metadata": {
    "collapsed": false,
    "pycharm": {
     "name": "#%% md\n"
    }
   }
  },
  {
   "cell_type": "code",
   "execution_count": 11,
   "outputs": [],
   "source": [
    "beta = mission_data[\"Beta\"][5]\n",
    "alpha = 0.6\n",
    "q = 7675\n",
    "k_1 = 0.085\n",
    "n = 5\n",
    "df['T/W_6'] = beta/alpha * ((C_D_0)/(beta/q*df['W/S']) + k_1*n**2*beta/q*df['W/S'])\n"
   ],
   "metadata": {
    "collapsed": false,
    "pycharm": {
     "name": "#%%\n"
    }
   }
  },
  {
   "cell_type": "markdown",
   "source": [
    "## Constraint 12: Landing"
   ],
   "metadata": {
    "collapsed": false
   }
  },
  {
   "cell_type": "code",
   "execution_count": 12,
   "outputs": [],
   "source": [
    "s_L = 200\n",
    "beta = 0.6\n",
    "k_L = 1.2\n",
    "mu = 0.55\n",
    "g = 9.81\n",
    "rho = 1.225\n",
    "C_L_max_land = 1.8\n",
    "W_TO_S = s_L / (beta*k_L**2) * (mu*g*rho*C_L_max_land)\n"
   ],
   "metadata": {
    "collapsed": false,
    "pycharm": {
     "name": "#%%\n"
    }
   }
  },
  {
   "cell_type": "markdown",
   "source": [
    "# Comparator aircraft"
   ],
   "metadata": {
    "collapsed": false,
    "pycharm": {
     "name": "#%% md\n"
    }
   }
  },
  {
   "cell_type": "code",
   "execution_count": 13,
   "outputs": [],
   "source": [
    "#[\"F-35\", 0.4109, 7243.6],[\"Harrier\", 0.765, 6074.3],\n",
    "aircrafts = [[\"X-47\", 0.654, 2238.5],\n",
    "            [\"skyhawk\", 0.3753, 4521],\n",
    "            [\"T-45\", 0.433, 3401],\n",
    "            [\"Nighthoare\", 0.4023, 3244]]"
   ],
   "metadata": {
    "collapsed": false,
    "pycharm": {
     "name": "#%%\n"
    }
   }
  },
  {
   "cell_type": "code",
   "execution_count": 14,
   "outputs": [
    {
     "data": {
      "text/plain": "<Figure size 432x288 with 1 Axes>",
      "image/png": "[encoded data removed]"
     },
     "metadata": {
      "needs_background": "light"
     },
     "output_type": "display_data"
    }
   ],
   "source": [
    "plt.axvline(W_TO_S, label = \"Landing\")\n",
    "plt.plot(df['W/S'], df['T/W_0'], label=\"Takeoff\", alpha=0.5)\n",
    "plt.plot(df['W/S'], df['T/W_1'], label=\"Cruise to Target\", alpha=0.5)\n",
    "plt.plot(df['W/S'], df['T/W_2'], label=\"0.95M Dash\", alpha=0.5)\n",
    "plt.plot(df['W/S'], df['T/W_3'], label=\"Loiter\", alpha=0.5)\n",
    "plt.plot(df['W/S'], df['T/W_4'], label=\"Return Cruise\", alpha=0.5)\n",
    "plt.plot(df['W/S'], df['T/W_5'], label=\"0.95M Dash Away\", alpha=0.5)\n",
    "plt.plot(df['W/S'], df['T/W_6'], label=\"5g Turn\", alpha=0.5)\n",
    "for aircraft in aircrafts:\n",
    "    plt.scatter(aircraft[2], aircraft[1], label=aircraft[0])\n",
    "plt.xlabel('$W_{TO}/S$')\n",
    "plt.ylabel('$T_{SL}/W_{TO}$')\n",
    "plt.grid()\n",
    "plt.legend()\n",
    "plt.savefig(\"contraints.png\", dpi=240)\n",
    "plt.show()\n"
   ],
   "metadata": {
    "collapsed": false,
    "pycharm": {
     "name": "#%%\n"
    }
   }
  }
 ],
 "metadata": {
  "kernelspec": {
   "display_name": "Python 3",
   "language": "python",
   "name": "python3"
  },
  "language_info": {
   "codemirror_mode": {
    "name": "ipython",
    "version": 2
   },
   "file_extension": ".py",
   "mimetype": "text/x-python",
   "name": "python",
   "nbconvert_exporter": "python",
   "pygments_lexer": "ipython2",
   "version": "2.7.6"
  }
 },
 "nbformat": 4,
 "nbformat_minor": 0
}