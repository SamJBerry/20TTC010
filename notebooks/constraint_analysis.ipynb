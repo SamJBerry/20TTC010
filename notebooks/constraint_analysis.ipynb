{
 "cells": [
  {
   "cell_type": "markdown",
   "source": [
    "# Constraint Analysis"
   ],
   "metadata": {
    "collapsed": false,
    "pycharm": {
     "name": "#%% md\n"
    }
   }
  },
  {
   "cell_type": "code",
   "execution_count": 1,
   "outputs": [],
   "source": [
    "import pandas as pd\n",
    "import numpy as np\n",
    "import matplotlib.pyplot as plt\n",
    "%matplotlib inline\n",
    "\n",
    "C_D_0 = 0.04"
   ],
   "metadata": {
    "collapsed": false,
    "pycharm": {
     "name": "#%%\n"
    }
   }
  },
  {
   "cell_type": "markdown",
   "source": [
    "## Mission"
   ],
   "metadata": {
    "collapsed": false,
    "pycharm": {
     "name": "#%% md\n"
    }
   }
  },
  {
   "cell_type": "code",
   "execution_count": 2,
   "outputs": [
    {
     "data": {
      "text/plain": "            Phase  Distance  Altitude  Speed  Cumulative Distance\n0         Takeoff         5       150   0.40                    5\n1   Initial Climb        50     35000   0.70                   55\n2          Cruise       300     35000   0.70                  355\n3          Loiter       400     35000   0.70                  755\n4         Descend        75     10000   0.85                  830\n5            Dash        75     10000   0.95                  905\n6           Climb        30     40000   0.70                  935\n7          Cruise       300     40000   0.70                 1235\n8         Descend        30      5000   0.80                 1265\n9          Loiter        20      5000   0.60                 1285\n10        Descend        10       150   0.50                 1295\n11           Land         5         0   0.40                 1300",
      "text/html": "<div>\n<style scoped>\n    .dataframe tbody tr th:only-of-type {\n        vertical-align: middle;\n    }\n\n    .dataframe tbody tr th {\n        vertical-align: top;\n    }\n\n    .dataframe thead th {\n        text-align: right;\n    }\n</style>\n<table border=\"1\" class=\"dataframe\">\n  <thead>\n    <tr style=\"text-align: right;\">\n      <th></th>\n      <th>Phase</th>\n      <th>Distance</th>\n      <th>Altitude</th>\n      <th>Speed</th>\n      <th>Cumulative Distance</th>\n    </tr>\n  </thead>\n  <tbody>\n    <tr>\n      <th>0</th>\n      <td>Takeoff</td>\n      <td>5</td>\n      <td>150</td>\n      <td>0.40</td>\n      <td>5</td>\n    </tr>\n    <tr>\n      <th>1</th>\n      <td>Initial Climb</td>\n      <td>50</td>\n      <td>35000</td>\n      <td>0.70</td>\n      <td>55</td>\n    </tr>\n    <tr>\n      <th>2</th>\n      <td>Cruise</td>\n      <td>300</td>\n      <td>35000</td>\n      <td>0.70</td>\n      <td>355</td>\n    </tr>\n    <tr>\n      <th>3</th>\n      <td>Loiter</td>\n      <td>400</td>\n      <td>35000</td>\n      <td>0.70</td>\n      <td>755</td>\n    </tr>\n    <tr>\n      <th>4</th>\n      <td>Descend</td>\n      <td>75</td>\n      <td>10000</td>\n      <td>0.85</td>\n      <td>830</td>\n    </tr>\n    <tr>\n      <th>5</th>\n      <td>Dash</td>\n      <td>75</td>\n      <td>10000</td>\n      <td>0.95</td>\n      <td>905</td>\n    </tr>\n    <tr>\n      <th>6</th>\n      <td>Climb</td>\n      <td>30</td>\n      <td>40000</td>\n      <td>0.70</td>\n      <td>935</td>\n    </tr>\n    <tr>\n      <th>7</th>\n      <td>Cruise</td>\n      <td>300</td>\n      <td>40000</td>\n      <td>0.70</td>\n      <td>1235</td>\n    </tr>\n    <tr>\n      <th>8</th>\n      <td>Descend</td>\n      <td>30</td>\n      <td>5000</td>\n      <td>0.80</td>\n      <td>1265</td>\n    </tr>\n    <tr>\n      <th>9</th>\n      <td>Loiter</td>\n      <td>20</td>\n      <td>5000</td>\n      <td>0.60</td>\n      <td>1285</td>\n    </tr>\n    <tr>\n      <th>10</th>\n      <td>Descend</td>\n      <td>10</td>\n      <td>150</td>\n      <td>0.50</td>\n      <td>1295</td>\n    </tr>\n    <tr>\n      <th>11</th>\n      <td>Land</td>\n      <td>5</td>\n      <td>0</td>\n      <td>0.40</td>\n      <td>1300</td>\n    </tr>\n  </tbody>\n</table>\n</div>"
     },
     "execution_count": 2,
     "metadata": {},
     "output_type": "execute_result"
    }
   ],
   "source": [
    "columns = [\"Phase\", \"Distance\", \"Altitude\", \"Speed\"]\n",
    "\n",
    "mission_data = pd.DataFrame([[\"Takeoff\", 5, 150, 0.4],\n",
    "                             [\"Initial Climb\", 50, 35000, 0.7],\n",
    "                             [\"Cruise\", 300, 35000, 0.7],\n",
    "                             [\"Loiter\", 400, 35000, 0.7],\n",
    "                             [\"Descend\", 75, 10000, 0.85],\n",
    "                             [\"Dash\", 75, 10000, 0.95],\n",
    "                             [\"Climb\", 30, 40000, 0.7],\n",
    "                             [\"Cruise\", 300, 40000, 0.7],\n",
    "                             [\"Descend\", 30, 5000, 0.8],\n",
    "                             [\"Loiter\", 20, 5000, 0.6],\n",
    "                             [\"Descend\", 10, 150, 0.5],\n",
    "                             [\"Land\", 5, 0, 0.4]], columns=columns)\n",
    "mission_data[\"Cumulative Distance\"] = mission_data[\"Distance\"].cumsum()\n",
    "mission_data.head(100)"
   ],
   "metadata": {
    "collapsed": false,
    "pycharm": {
     "name": "#%%\n"
    }
   }
  },
  {
   "cell_type": "code",
   "execution_count": 3,
   "outputs": [
    {
     "data": {
      "text/plain": "<Figure size 432x288 with 2 Axes>",
      "image/png": "[encoded data removed]"
     },
     "metadata": {
      "needs_background": "light"
     },
     "output_type": "display_data"
    }
   ],
   "source": [
    "fig, axs = plt.subplots(2)\n",
    "axs[0].plot(mission_data[\"Cumulative Distance\"], mission_data[\"Altitude\"])\n",
    "axs[0].set_ylabel(\"Altitude [Feet]\")\n",
    "axs[1].plot(mission_data[\"Cumulative Distance\"], mission_data[\"Speed\"])\n",
    "axs[1].set_ylabel(\"Speed [Mach No.]\")\n",
    "axs[1].set_xlabel(\"Distance [NM]\")\n",
    "plt.show()"
   ],
   "metadata": {
    "collapsed": false,
    "pycharm": {
     "name": "#%%\n"
    }
   }
  },
  {
   "cell_type": "markdown",
   "source": [
    "## Constraint 1: Constant altitude and speed cruise"
   ],
   "metadata": {
    "collapsed": false,
    "pycharm": {
     "name": "#%% md\n"
    }
   }
  },
  {
   "cell_type": "code",
   "execution_count": 4,
   "metadata": {
    "collapsed": true,
    "pycharm": {
     "name": "#%%\n"
    }
   },
   "outputs": [],
   "source": [
    "beta = 0.93\n",
    "alpha = 0.6\n",
    "q = 10322.25\n",
    "k_1 = 0.085\n",
    "W_TO = 6000 * 9.81\n",
    "\n",
    "W_TO_initial = W_TO / 60\n",
    "W_TO_end = W_TO / 8\n",
    "\n",
    "df = pd.DataFrame()\n",
    "df['W/S'] = np.linspace(W_TO_initial,W_TO_end)\n",
    "df['T/W_1'] = beta/alpha * ((C_D_0)/(beta/q*df['W/S']) + k_1*beta/q*df['W/S'])"
   ]
  },
  {
   "cell_type": "markdown",
   "source": [
    "## Constraint 2: Constant speed climb"
   ],
   "metadata": {
    "collapsed": false,
    "pycharm": {
     "name": "#%% md\n"
    }
   }
  },
  {
   "cell_type": "code",
   "execution_count": 5,
   "outputs": [],
   "source": [
    "alpha = 0.7\n",
    "beta = 0.98\n",
    "q = 19616\n",
    "V=322\n",
    "df['T/W_2'] = beta/alpha * ((C_D_0)/(beta/q*df['W/S']) + k_1*beta/q*df['W/S'] + 1/V)"
   ],
   "metadata": {
    "collapsed": false,
    "pycharm": {
     "name": "#%%\n"
    }
   }
  },
  {
   "cell_type": "markdown",
   "source": [
    "## Constraint 3: Landing"
   ],
   "metadata": {
    "collapsed": false,
    "pycharm": {
     "name": "#%% md\n"
    }
   }
  },
  {
   "cell_type": "code",
   "execution_count": 6,
   "outputs": [],
   "source": [
    "s_L = 200\n",
    "beta = 0.2\n",
    "k_L = 1.2\n",
    "mu = 0.2\n",
    "g = 9.81\n",
    "rho = 1.225\n",
    "C_L_max_land = 1.8\n",
    "W_TO_S = s_L / (beta*k_L**2) * (mu*g*rho*C_L_max_land)"
   ],
   "metadata": {
    "collapsed": false,
    "pycharm": {
     "name": "#%%\n"
    }
   }
  },
  {
   "cell_type": "markdown",
   "source": [
    "## Constraint 3: Takeoff"
   ],
   "metadata": {
    "collapsed": false,
    "pycharm": {
     "name": "#%% md\n"
    }
   }
  },
  {
   "cell_type": "code",
   "execution_count": 7,
   "outputs": [],
   "source": [
    "beta = 1\n",
    "alpha = 1\n",
    "k_LO = 1.2\n",
    "s_G = 300\n",
    "g = 9.81\n",
    "rho = 1.225\n",
    "C_L_max_TO = 1.8\n",
    "df['T/W_3'] = beta**2/alpha * k_LO**2 / (s_G*g*rho*C_L_max_TO) * df['W/S']"
   ],
   "metadata": {
    "collapsed": false,
    "pycharm": {
     "name": "#%%\n"
    }
   }
  },
  {
   "cell_type": "code",
   "execution_count": 8,
   "outputs": [
    {
     "data": {
      "text/plain": "<Figure size 432x288 with 1 Axes>",
      "image/png": "[encoded data removed]"
     },
     "metadata": {
      "needs_background": "light"
     },
     "output_type": "display_data"
    }
   ],
   "source": [
    "plt.axvline(W_TO_S, label = \"Landing\")\n",
    "plt.fill_between(df['W/S'], df['T/W_1'], label=\"Cruise\", alpha=0.5)\n",
    "plt.fill_between(df['W/S'], df['T/W_2'], label=\"Climb\", alpha=0.5)\n",
    "plt.fill_between(df['W/S'], df['T/W_3'], label=\"Takeoff\", alpha=0.5)\n",
    "plt.xlabel('$W_{TO}/S$')\n",
    "plt.ylabel('$T_{SL}/W_{TO}$')\n",
    "plt.grid()\n",
    "plt.legend()\n",
    "plt.show()"
   ],
   "metadata": {
    "collapsed": false,
    "pycharm": {
     "name": "#%%\n"
    }
   }
  }
 ],
 "metadata": {
  "kernelspec": {
   "display_name": "Python 3",
   "language": "python",
   "name": "python3"
  },
  "language_info": {
   "codemirror_mode": {
    "name": "ipython",
    "version": 2
   },
   "file_extension": ".py",
   "mimetype": "text/x-python",
   "name": "python",
   "nbconvert_exporter": "python",
   "pygments_lexer": "ipython2",
   "version": "2.7.6"
  }
 },
 "nbformat": 4,
 "nbformat_minor": 0
}